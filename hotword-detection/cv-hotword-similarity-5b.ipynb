{
 "cells": [
  {
   "cell_type": "code",
   "execution_count": 1,
   "id": "1bae3bba",
   "metadata": {},
   "outputs": [
    {
     "name": "stderr",
     "output_type": "stream",
     "text": [
      "/home/geyu/projects/my-test/.venv/lib/python3.11/site-packages/InstructorEmbedding/instructor.py:7: TqdmWarning: IProgress not found. Please update jupyter and ipywidgets. See https://ipywidgets.readthedocs.io/en/stable/user_install.html\n",
      "  from tqdm.autonotebook import trange\n"
     ]
    },
    {
     "name": "stdout",
     "output_type": "stream",
     "text": [
      "load INSTRUCTOR_Transformer\n",
      "max_seq_length  512\n"
     ]
    }
   ],
   "source": [
    "import pandas as pd\n",
    "import torch\n",
    "from sklearn.metrics.pairwise import cosine_similarity\n",
    "import os\n",
    "from sklearn.metrics.pairwise import cosine_similarity\n",
    "from InstructorEmbedding import INSTRUCTOR\n",
    "import numpy as np\n",
    "\n",
    "model = INSTRUCTOR('hkunlp/instructor-large')"
   ]
  },
  {
   "cell_type": "code",
   "execution_count": 2,
   "id": "4a1e32a4",
   "metadata": {},
   "outputs": [],
   "source": [
    "inference_results = './inference_results.csv'\n",
    "inference_results_df = pd.read_csv(inference_results)\n",
    "inference_results_df = inference_results_df.dropna(subset=['transcription']).reset_index(drop=True)\n",
    "\n",
    "HOT_WORDS = [\"be careful\", \"destroy\",  \"stranger\"]\n",
    "\n",
    "def building_query(hot_words):\n",
    "    return [[f\"Represent words to find similar phases: \",  f\"{', '.join(hot_words)}\"]]\n",
    "\n",
    "def build_corpus(inference_results):\n",
    "    df = inference_results\n",
    "    return [['Represent the sentence to find similar phases: ', df['transcription'][i].lower()] for i in range(len(df))] # change to lower to adhere embedding model's example"
   ]
  },
  {
   "cell_type": "code",
   "execution_count": 3,
   "id": "dcb9fe90",
   "metadata": {},
   "outputs": [],
   "source": [
    "query = building_query(HOT_WORDS)\n",
    "corpus = build_corpus(inference_results_df)\n",
    "\n",
    "# corpus = corpus[:1]\n",
    "# print(corpus[0])\n",
    "embeddings_a = model.encode(query)\n",
    "embeddings_b = model.encode(corpus)\n",
    "similarities = cosine_similarity(embeddings_a,embeddings_b)"
   ]
  },
  {
   "cell_type": "code",
   "execution_count": 4,
   "id": "dd3498ba",
   "metadata": {},
   "outputs": [
    {
     "data": {
      "text/plain": [
       "array([[0.8874334 , 0.78662753, 0.7732773 , ..., 0.78608906, 0.7256171 ,\n",
       "        0.7441651 ]], shape=(1, 4075), dtype=float32)"
      ]
     },
     "execution_count": 4,
     "metadata": {},
     "output_type": "execute_result"
    }
   ],
   "source": [
    "similarities"
   ]
  },
  {
   "cell_type": "code",
   "execution_count": 5,
   "id": "4f02fc29",
   "metadata": {},
   "outputs": [],
   "source": [
    "sim_arr = np.array(similarities[0])"
   ]
  },
  {
   "cell_type": "code",
   "execution_count": 6,
   "id": "066fdaa0",
   "metadata": {},
   "outputs": [
    {
     "data": {
      "text/plain": [
       "np.int64(136)"
      ]
     },
     "execution_count": 6,
     "metadata": {},
     "output_type": "execute_result"
    }
   ],
   "source": [
    "(sim_arr >= 0.8).sum() # Assuming you want to count how many similarities are above 0.8"
   ]
  },
  {
   "cell_type": "code",
   "execution_count": 7,
   "id": "2d25d994",
   "metadata": {},
   "outputs": [
    {
     "data": {
      "text/plain": [
       "4075"
      ]
     },
     "execution_count": 7,
     "metadata": {},
     "output_type": "execute_result"
    }
   ],
   "source": [
    "len(sim_arr) # Count of phrases with similarity above 0.8"
   ]
  },
  {
   "cell_type": "code",
   "execution_count": 8,
   "id": "6d2190f0",
   "metadata": {},
   "outputs": [],
   "source": [
    "inference_results_df['similarity'] = sim_arr >= 0.8\n",
    "inference_results_df = inference_results_df.drop(columns=['transcription'])\n",
    "inference_results_df.to_csv('cv-valid-dev-updated.csv', index=False)"
   ]
  },
  {
   "cell_type": "markdown",
   "id": "8de4ab09",
   "metadata": {},
   "source": []
  }
 ],
 "metadata": {
  "kernelspec": {
   "display_name": ".venv",
   "language": "python",
   "name": "python3"
  },
  "language_info": {
   "codemirror_mode": {
    "name": "ipython",
    "version": 3
   },
   "file_extension": ".py",
   "mimetype": "text/x-python",
   "name": "python",
   "nbconvert_exporter": "python",
   "pygments_lexer": "ipython3",
   "version": "3.11.5"
  }
 },
 "nbformat": 4,
 "nbformat_minor": 5
}
